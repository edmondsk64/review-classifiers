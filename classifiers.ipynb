{
 "cells": [
  {
   "cell_type": "code",
   "execution_count": 2,
   "metadata": {
    "collapsed": true
   },
   "outputs": [],
   "source": [
    "import numpy as np\n",
    "import glob, os\n",
    "from sklearn.feature_extraction.text import CountVectorizer\n",
    "from sklearn.naive_bayes import MultinomialNB\n",
    "from sklearn.pipeline import Pipeline\n",
    "from sklearn.metrics import roc_auc_score, precision_score, recall_score\n",
    "from sklearn.metrics import classification_report\n",
    "from sklearn.feature_extraction.text import TfidfVectorizer\n",
    "from sklearn.linear_model import LogisticRegression\n",
    "import math\n",
    "from fastText import train_supervised\n",
    "import pickle"
   ]
  },
  {
   "cell_type": "code",
   "execution_count": 3,
   "metadata": {},
   "outputs": [],
   "source": [
    "\n",
    "ftList = []\n",
    "y = []\n",
    "\n",
    "os.chdir(\"C:/Users/edmon/PycharmProjects/asgn1/venv/aclImdb/test/neg\")\n",
    "for file in glob.glob(\"*.txt\"):\n",
    "    f = open(file, \"r\", encoding=\"utf8\")\n",
    "    label = 0\n",
    "    doc = str(\"__label__\") + str(label) + \"  \"+ str(f.read())\n",
    "    \n",
    "    y.append(label)\n",
    "    ftList.append(doc)\n",
    "    f.close()\n",
    "\n",
    "os.chdir(\"C:/Users/edmon/PycharmProjects/asgn1/venv/aclImdb/test/pos\")\n",
    "\n",
    "for file in glob.glob(\"*.txt\"):\n",
    "    f = open(file, \"r\", encoding=\"utf8\")\n",
    "    label = 1\n",
    "    doc = str(\"__label__\") + str(label) + \"  \"+ str(f.read())\n",
    "    \n",
    "    y.append(label)\n",
    "    ftList.append(doc)\n",
    "    f.close()\n",
    "\n",
    "\n",
    "os.chdir(\"C:/Users/edmon/PycharmProjects/asgn1/venv/aclImdb/train/neg\")\n",
    "for file in glob.glob(\"*.txt\"):\n",
    "    f = open(file, \"r\", encoding=\"utf8\")\n",
    "    label = 0\n",
    "    doc = str(\"__label__\") + str(label) + \"  \"+ str(f.read())\n",
    "    \n",
    "    y.append(label)\n",
    "    ftList.append(doc)\n",
    "    f.close()\n",
    "\n",
    "\n",
    "os.chdir(\"C:/Users/edmon/PycharmProjects/asgn1/venv/aclImdb/train/pos\")\n",
    "for file in glob.glob(\"*.txt\"):\n",
    "    f = open(file, \"r\", encoding=\"utf8\")\n",
    "    label = 1\n",
    "    doc = str(\"__label__\") + str(label) + \"  \"+ str(f.read())\n",
    "\n",
    "    y.append(label)\n",
    "    ftList.append(doc)\n",
    "\n",
    "\n",
    "from sklearn.model_selection import train_test_split\n",
    "\n",
    "X_train, X_test, y_train, y_test = train_test_split(\n",
    "   ftList, y, test_size=0.3, stratify=y, random_state=100)"
   ]
  },
  {
   "cell_type": "code",
   "execution_count": 4,
   "metadata": {},
   "outputs": [
    {
     "name": "stdout",
     "output_type": "stream",
     "text": [
      "Training set: bad review: 17500 good review: 17500\nTesting set: bad review: 7500 good review: 7500\n"
     ]
    }
   ],
   "source": [
    "# Check that the ratio of positive to negative reviews is roughly 1:1 \n",
    "\n",
    "good = 0\n",
    "bad = 0\n",
    "\n",
    "for i in range(len(X_train)):\n",
    "    if y_train[i]:\n",
    "        good += 1\n",
    "    else:\n",
    "        bad += 1\n",
    "\n",
    "print (\"Training set: bad review:\",bad,\"good review:\", good)\n",
    "\n",
    "\n",
    "good = 0\n",
    "bad = 0\n",
    "\n",
    "for i in range(len(X_test)):\n",
    "    if y_test[i]:\n",
    "        good += 1\n",
    "        \n",
    "    else:\n",
    "        \n",
    "        bad += 1\n",
    "\n",
    "print (\"Testing set: bad review:\",bad,\"good review:\", good)"
   ]
  },
  {
   "cell_type": "code",
   "execution_count": 5,
   "metadata": {},
   "outputs": [],
   "source": [
    "output = open('C:/Users/edmon/PycharmProjects/asgn1/venv/test.txt', 'w', encoding=\"utf8\")\n",
    "output.write('\\n'.join(X_test))\n",
    "output.close()\n",
    "\n",
    "output = open('C:/Users/edmon/PycharmProjects/asgn1/venv/train.txt', 'w', encoding=\"utf8\")\n",
    "output.write('\\n'.join(X_train))\n",
    "output.close()   "
   ]
  },
  {
   "cell_type": "code",
   "execution_count": 6,
   "metadata": {},
   "outputs": [],
   "source": [
    "model = train_supervised(\n",
    "        input=\"C:/Users/edmon/PycharmProjects/asgn1/venv/train.txt\",   # training data file\n",
    "        epoch=25,            # epoch: number of times going through the data\n",
    "        lr=1.0,              # learning rate\n",
    "        wordNgrams=2,        # n-gram features\n",
    "        verbose=2,           # whether to print out more messages\n",
    "        minCount=1           # minimum number of times a token should appear\n",
    ")"
   ]
  },
  {
   "cell_type": "code",
   "execution_count": 136,
   "metadata": {},
   "outputs": [],
   "source": [
    "model.save_model(\"C:/Users/edmon/PycharmProjects/asgn1/venv/model.bin\")"
   ]
  },
  {
   "cell_type": "code",
   "execution_count": 153,
   "metadata": {},
   "outputs": [],
   "source": [
    "from fastText import load_model\n",
    "\n",
    "# load a trained model named \"model.bin\"\n",
    "model = load_model(\"model.bin\")\n",
    "\n"
   ]
  },
  {
   "cell_type": "code",
   "execution_count": 7,
   "metadata": {},
   "outputs": [],
   "source": [
    "temp_y, temp = model.predict(X_test, k=1)\n",
    "\n",
    "y_pred = []\n",
    "\n",
    "for item in temp_y:\n",
    "    for i in item:\n",
    "        y_pred.append(int(i.strip(\"__label__\")))\n",
    "\n"
   ]
  },
  {
   "cell_type": "code",
   "execution_count": 8,
   "metadata": {},
   "outputs": [
    {
     "name": "stdout",
     "output_type": "stream",
     "text": [
      "AUC      : 0.8955\nPrecision: 0.8915\nRecall   : 0.9007\n"
     ]
    }
   ],
   "source": [
    "print(\"AUC      : {:.4f}\".format(roc_auc_score(y_test, y_pred)))\n",
    "print(\"Precision: {:.4f}\".format(precision_score(y_test, y_pred)))\n",
    "print(\"Recall   : {:.4f}\".format(recall_score(y_test, y_pred)))"
   ]
  },
  {
   "cell_type": "code",
   "execution_count": 9,
   "metadata": {},
   "outputs": [
    {
     "name": "stdout",
     "output_type": "stream",
     "text": [
      "              precision    recall  f1-score   support\n\n           0       0.90      0.89      0.89      7500\n           1       0.89      0.90      0.90      7500\n\n   micro avg       0.90      0.90      0.90     15000\n   macro avg       0.90      0.90      0.90     15000\nweighted avg       0.90      0.90      0.90     15000\n\n"
     ]
    }
   ],
   "source": [
    "fastTextReport = classification_report(y_test, y_pred)\n",
    "print(fastTextReport)"
   ]
  },
  {
   "cell_type": "code",
   "execution_count": 10,
   "metadata": {},
   "outputs": [],
   "source": [
    "X = []\n",
    "y = []\n",
    "\n",
    "os.chdir(\"C:/Users/edmon/PycharmProjects/asgn1/venv/aclImdb/test/neg\")\n",
    "\n",
    "\n",
    "for file in glob.glob(\"*.txt\"):\n",
    "    f = open(file, \"r\", encoding=\"utf8\")\n",
    "   # if(int(file.split('_')[1].strip(\".txt\")) < 5):\n",
    "    label = 0\n",
    "\n",
    "    y.append(label)\n",
    "    X.append(f.read())\n",
    "    f.close()\n",
    "    \n",
    "os.chdir(\"C:/Users/edmon/PycharmProjects/asgn1/venv/aclImdb/test/pos\")\n",
    "\n",
    "for file in glob.glob(\"*.txt\"):\n",
    "    f = open(file, \"r\", encoding=\"utf8\")\n",
    "    label = 1\n",
    "\n",
    "    y.append(label)\n",
    "    X.append(f.read())\n",
    "    f.close()\n",
    "    \n",
    "\n",
    "\n",
    "os.chdir(\"C:/Users/edmon/PycharmProjects/asgn1/venv/aclImdb/train/neg\")\n",
    "for file in glob.glob(\"*.txt\"):\n",
    "    f = open(file, \"r\", encoding=\"utf8\")\n",
    "    label = 0\n",
    "\n",
    "    y.append(label)\n",
    "    X.append(f.read())\n",
    "    \n",
    "    f.close()\n",
    "\n",
    "os.chdir(\"C:/Users/edmon/PycharmProjects/asgn1/venv/aclImdb/train/pos\")\n",
    "for file in glob.glob(\"*.txt\"):\n",
    "    f = open(file, \"r\", encoding=\"utf8\")\n",
    "    label = 1\n",
    "\n",
    "    y.append(label)\n",
    "    X.append(f.read())\n",
    "    \n",
    "    f.close()\n",
    "\n",
    "\n",
    "X_train, X_test, y_train, y_test = train_test_split(\n",
    "    X, y, test_size=0.3, stratify=y, random_state=100)"
   ]
  },
  {
   "cell_type": "code",
   "execution_count": 11,
   "metadata": {},
   "outputs": [
    {
     "name": "stdout",
     "output_type": "stream",
     "text": [
      "Training set: bad review: 17500 good review: 17500\nTesting set: bad review: 7500 good review: 7500\n"
     ]
    }
   ],
   "source": [
    "# Check that the ratio of positive to negative reviews is roughly 1:1 \n",
    "\n",
    "good = 0\n",
    "bad = 0\n",
    "\n",
    "for i in range(len(X_train)):\n",
    "    if(y_train[i]):\n",
    "        good += 1\n",
    "    else:\n",
    "        bad += 1\n",
    "\n",
    "print (\"Training set: bad review:\",bad,\"good review:\", good)\n",
    "\n",
    "\n",
    "good = 0\n",
    "bad = 0\n",
    "\n",
    "for i in range(len(X_test)):\n",
    "    if(y_test[i]):\n",
    "        good += 1\n",
    "        \n",
    "    else:\n",
    "        \n",
    "        bad += 1\n",
    "\n",
    "print (\"Testing set: bad review:\",bad,\"good review:\", good)\n"
   ]
  },
  {
   "cell_type": "code",
   "execution_count": 12,
   "metadata": {},
   "outputs": [
    {
     "data": {
      "text/plain": [
       "Pipeline(memory=None,\n     steps=[('vec', CountVectorizer(analyzer='word', binary=False, decode_error='strict',\n        dtype=<class 'numpy.int64'>, encoding='utf-8', input='content',\n        lowercase=True, max_df=1.0, max_features=None, min_df=1,\n        ngram_range=(1, 1), preprocessor=None, stop_words=None,\n        strip_accents=None, token_pattern='(?u)\\\\b\\\\w\\\\w+\\\\b',\n        tokenizer=None, vocabulary=None)), ('nb', MultinomialNB(alpha=1.0, class_prior=None, fit_prior=True))])"
      ]
     },
     "execution_count": 12,
     "metadata": {},
     "output_type": "execute_result"
    }
   ],
   "source": [
    "vectorizer = CountVectorizer()\n",
    "model = MultinomialNB()\n",
    "\n",
    "clf = Pipeline([                 # Creating a pipeline\n",
    "    ('vec', vectorizer),  # The count vectorizer using default params\n",
    "    ('nb', model)      # The multinomial NB using default params\n",
    "])\n",
    "clf.fit(X_train, y_train) \n"
   ]
  },
  {
   "cell_type": "code",
   "execution_count": 13,
   "metadata": {},
   "outputs": [
    {
     "name": "stdout",
     "output_type": "stream",
     "text": [
      "              precision    recall  f1-score   support\n\n           0       0.82      0.88      0.85      7500\n           1       0.87      0.81      0.84      7500\n\n   micro avg       0.84      0.84      0.84     15000\n   macro avg       0.85      0.84      0.84     15000\nweighted avg       0.85      0.84      0.84     15000\n\n"
     ]
    }
   ],
   "source": [
    "y_pred = clf.predict(X_test)\n",
    "countNaiveNoNgramReport = classification_report(y_test, y_pred)\n",
    "print(countNaiveNoNgramReport)"
   ]
  },
  {
   "cell_type": "code",
   "execution_count": 14,
   "metadata": {},
   "outputs": [
    {
     "data": {
      "text/plain": [
       "Pipeline(memory=None,\n     steps=[('vec', TfidfVectorizer(analyzer='word', binary=False, decode_error='strict',\n        dtype=<class 'numpy.float64'>, encoding='utf-8', input='content',\n        lowercase=True, max_df=1.0, max_features=None, min_df=1,\n        ngram_range=(1, 1), norm='l2', preprocessor=None, smooth_idf=True,\n ...True,\n        vocabulary=None)), ('nb', MultinomialNB(alpha=1.0, class_prior=None, fit_prior=True))])"
      ]
     },
     "execution_count": 14,
     "metadata": {},
     "output_type": "execute_result"
    }
   ],
   "source": [
    "vectorizer = TfidfVectorizer ()\n",
    "model = MultinomialNB()\n",
    "\n",
    "clf = Pipeline([                 # Creating a pipeline\n",
    "    ('vec', vectorizer),  # The count vectorizer using default params\n",
    "    ('nb', model)      # The multinomial NB using default params\n",
    "])\n",
    "clf.fit(X_train, y_train)\n"
   ]
  },
  {
   "cell_type": "code",
   "execution_count": 15,
   "metadata": {},
   "outputs": [
    {
     "name": "stdout",
     "output_type": "stream",
     "text": [
      "              precision    recall  f1-score   support\n\n           0       0.84      0.89      0.86      7500\n           1       0.88      0.83      0.85      7500\n\n   micro avg       0.86      0.86      0.86     15000\n   macro avg       0.86      0.86      0.86     15000\nweighted avg       0.86      0.86      0.86     15000\n\n"
     ]
    }
   ],
   "source": [
    "y_pred = clf.predict(X_test)\n",
    "tfidNaiveNoNgramReport = classification_report(y_test, y_pred)\n",
    "print(tfidNaiveNoNgramReport)"
   ]
  },
  {
   "cell_type": "code",
   "execution_count": 16,
   "metadata": {},
   "outputs": [
    {
     "name": "stderr",
     "output_type": "stream",
     "text": [
      "C:\\Users\\edmon\\PycharmProjects\\asgn1\\venv\\lib\\site-packages\\sklearn\\linear_model\\logistic.py:432: FutureWarning: Default solver will be changed to 'lbfgs' in 0.22. Specify a solver to silence this warning.\n  FutureWarning)\n"
     ]
    },
    {
     "data": {
      "text/plain": [
       "Pipeline(memory=None,\n     steps=[('vec', CountVectorizer(analyzer='word', binary=False, decode_error='strict',\n        dtype=<class 'numpy.int64'>, encoding='utf-8', input='content',\n        lowercase=True, max_df=1.0, max_features=None, min_df=1,\n        ngram_range=(1, 1), preprocessor=None, stop_words=None,\n        strip_...penalty='l2', random_state=None, solver='warn',\n          tol=0.0001, verbose=0, warm_start=False))])"
      ]
     },
     "execution_count": 16,
     "metadata": {},
     "output_type": "execute_result"
    }
   ],
   "source": [
    "vectorizer = CountVectorizer()\n",
    "model = LogisticRegression()\n",
    "\n",
    "clf = Pipeline([('vec', vectorizer),\n",
    "                ('logistic',model)\n",
    "               ])\n",
    "clf.fit(X_train, y_train) "
   ]
  },
  {
   "cell_type": "code",
   "execution_count": 17,
   "metadata": {},
   "outputs": [
    {
     "name": "stdout",
     "output_type": "stream",
     "text": [
      "              precision    recall  f1-score   support\n\n           0       0.89      0.88      0.89      7500\n           1       0.88      0.89      0.89      7500\n\n   micro avg       0.89      0.89      0.89     15000\n   macro avg       0.89      0.89      0.89     15000\nweighted avg       0.89      0.89      0.89     15000\n\n"
     ]
    }
   ],
   "source": [
    "y_pred = clf.predict(X_test)\n",
    "countLogisticNoNgramReport = classification_report(y_test, y_pred)\n",
    "print(countLogisticNoNgramReport)\n"
   ]
  },
  {
   "cell_type": "code",
   "execution_count": 18,
   "metadata": {},
   "outputs": [
    {
     "data": {
      "text/plain": [
       "Pipeline(memory=None,\n     steps=[('vec', TfidfVectorizer(analyzer='word', binary=False, decode_error='strict',\n        dtype=<class 'numpy.float64'>, encoding='utf-8', input='content',\n        lowercase=True, max_df=1.0, max_features=None, min_df=1,\n        ngram_range=(1, 1), norm='l2', preprocessor=None, smooth_idf=True,\n ...penalty='l2', random_state=None, solver='warn',\n          tol=0.0001, verbose=0, warm_start=False))])"
      ]
     },
     "execution_count": 18,
     "metadata": {},
     "output_type": "execute_result"
    }
   ],
   "source": [
    "vectorizer = TfidfVectorizer()\n",
    "model = LogisticRegression()\n",
    "\n",
    "clf = Pipeline([('vec', vectorizer),\n",
    "                ('logistic',model)\n",
    "               ])\n",
    "clf.fit(X_train, y_train) "
   ]
  },
  {
   "cell_type": "code",
   "execution_count": 19,
   "metadata": {},
   "outputs": [
    {
     "name": "stdout",
     "output_type": "stream",
     "text": [
      "              precision    recall  f1-score   support\n\n           0       0.90      0.89      0.89      7500\n           1       0.89      0.90      0.90      7500\n\n   micro avg       0.90      0.90      0.90     15000\n   macro avg       0.90      0.90      0.90     15000\nweighted avg       0.90      0.90      0.90     15000\n\n"
     ]
    }
   ],
   "source": [
    "\n",
    "y_pred = clf.predict(X_test)\n",
    "tfidLogisticNoNgramReport = classification_report(y_test, y_pred)\n",
    "print(tfidLogisticNoNgramReport)"
   ]
  },
  {
   "cell_type": "code",
   "execution_count": 20,
   "metadata": {},
   "outputs": [
    {
     "data": {
      "text/plain": [
       "Pipeline(memory=None,\n     steps=[('vec', CountVectorizer(analyzer='word', binary=False, decode_error='strict',\n        dtype=<class 'numpy.int64'>, encoding='utf-8', input='content',\n        lowercase=True, max_df=1.0, max_features=None, min_df=1,\n        ngram_range=(1, 2), preprocessor=None, stop_words=None,\n        strip_accents=None, token_pattern='(?u)\\\\b\\\\w\\\\w+\\\\b',\n        tokenizer=None, vocabulary=None)), ('nb', MultinomialNB(alpha=1.0, class_prior=None, fit_prior=True))])"
      ]
     },
     "execution_count": 20,
     "metadata": {},
     "output_type": "execute_result"
    }
   ],
   "source": [
    "vectorizer = CountVectorizer (ngram_range=(1,2))\n",
    "model = MultinomialNB()\n",
    "\n",
    "clf = Pipeline([                 \n",
    "    ('vec', vectorizer),  \n",
    "    ('nb', model)      \n",
    "])\n",
    "\n",
    "clf.fit(X_train, y_train) \n"
   ]
  },
  {
   "cell_type": "code",
   "execution_count": 21,
   "metadata": {},
   "outputs": [
    {
     "name": "stdout",
     "output_type": "stream",
     "text": [
      "              precision    recall  f1-score   support\n\n           0       0.87      0.90      0.88      7500\n           1       0.89      0.86      0.88      7500\n\n   micro avg       0.88      0.88      0.88     15000\n   macro avg       0.88      0.88      0.88     15000\nweighted avg       0.88      0.88      0.88     15000\n\n"
     ]
    }
   ],
   "source": [
    "y_pred = clf.predict(X_test)\n",
    "countNaiveYesNgramReport = classification_report(y_test, y_pred)\n",
    "print(countNaiveYesNgramReport)\n"
   ]
  },
  {
   "cell_type": "code",
   "execution_count": 22,
   "metadata": {},
   "outputs": [
    {
     "data": {
      "text/plain": [
       "Pipeline(memory=None,\n     steps=[('vec', TfidfVectorizer(analyzer='word', binary=False, decode_error='strict',\n        dtype=<class 'numpy.float64'>, encoding='utf-8', input='content',\n        lowercase=True, max_df=1.0, max_features=None, min_df=1,\n        ngram_range=(1, 2), norm='l2', preprocessor=None, smooth_idf=True,\n ...True,\n        vocabulary=None)), ('nb', MultinomialNB(alpha=1.0, class_prior=None, fit_prior=True))])"
      ]
     },
     "execution_count": 22,
     "metadata": {},
     "output_type": "execute_result"
    }
   ],
   "source": [
    "vectorizer = TfidfVectorizer(ngram_range=(1,2))\n",
    "model = MultinomialNB()\n",
    "\n",
    "clf = Pipeline([                \n",
    "    ('vec', vectorizer),  \n",
    "    ('nb', model)     \n",
    "])\n",
    "\n",
    "clf.fit(X_train, y_train) \n"
   ]
  },
  {
   "cell_type": "code",
   "execution_count": 23,
   "metadata": {},
   "outputs": [
    {
     "name": "stdout",
     "output_type": "stream",
     "text": [
      "              precision    recall  f1-score   support\n\n           0       0.87      0.91      0.89      7500\n           1       0.91      0.86      0.89      7500\n\n   micro avg       0.89      0.89      0.89     15000\n   macro avg       0.89      0.89      0.89     15000\nweighted avg       0.89      0.89      0.89     15000\n\n"
     ]
    }
   ],
   "source": [
    "y_pred = clf.predict(X_test)\n",
    "tfidNaiveYesNgramReport = classification_report(y_test, y_pred)\n",
    "print(tfidNaiveYesNgramReport)\n"
   ]
  },
  {
   "cell_type": "code",
   "execution_count": 24,
   "metadata": {},
   "outputs": [
    {
     "name": "stderr",
     "output_type": "stream",
     "text": [
      "C:\\Users\\edmon\\PycharmProjects\\asgn1\\venv\\lib\\site-packages\\sklearn\\linear_model\\logistic.py:432: FutureWarning: Default solver will be changed to 'lbfgs' in 0.22. Specify a solver to silence this warning.\n  FutureWarning)\n"
     ]
    }
   ],
   "source": [
    "vectorizer = CountVectorizer (ngram_range=(1,2))\n",
    "model = LogisticRegression()\n",
    "\n",
    "clf = Pipeline([                 \n",
    "    ('vec', vectorizer),  \n",
    "    ('nb', model)      \n",
    "])\n",
    "\n",
    "clf.fit(X_train, y_train) \n",
    "pickle.dump(clf, open(\"C:/Users/edmon/PycharmProjects/asgn1/venv/model.pkl\", 'wb'))"
   ]
  },
  {
   "cell_type": "code",
   "execution_count": 25,
   "metadata": {},
   "outputs": [
    {
     "name": "stdout",
     "output_type": "stream",
     "text": [
      "              precision    recall  f1-score   support\n\n           0       0.91      0.90      0.91      7500\n           1       0.90      0.92      0.91      7500\n\n   micro avg       0.91      0.91      0.91     15000\n   macro avg       0.91      0.91      0.91     15000\nweighted avg       0.91      0.91      0.91     15000\n\n"
     ]
    }
   ],
   "source": [
    "\n",
    "y_pred = clf.predict(X_test)\n",
    "countLogisticYesNgramReport = classification_report(y_test, y_pred)\n",
    "print(countLogisticYesNgramReport)\n"
   ]
  },
  {
   "cell_type": "code",
   "execution_count": 26,
   "metadata": {},
   "outputs": [
    {
     "data": {
      "text/plain": [
       "Pipeline(memory=None,\n     steps=[('vec', TfidfVectorizer(analyzer='word', binary=False, decode_error='strict',\n        dtype=<class 'numpy.float64'>, encoding='utf-8', input='content',\n        lowercase=True, max_df=1.0, max_features=None, min_df=1,\n        ngram_range=(1, 2), norm='l2', preprocessor=None, smooth_idf=True,\n ...penalty='l2', random_state=None, solver='warn',\n          tol=0.0001, verbose=0, warm_start=False))])"
      ]
     },
     "execution_count": 26,
     "metadata": {},
     "output_type": "execute_result"
    }
   ],
   "source": [
    "\n",
    "vectorizer = TfidfVectorizer  (ngram_range=(1,2))\n",
    "model = LogisticRegression()\n",
    "\n",
    "clf = Pipeline([                 \n",
    "    ('vec', vectorizer),  \n",
    "    ('nb', model)      \n",
    "])\n",
    "\n",
    "clf.fit(X_train, y_train) \n"
   ]
  },
  {
   "cell_type": "code",
   "execution_count": 27,
   "metadata": {},
   "outputs": [
    {
     "name": "stdout",
     "output_type": "stream",
     "text": [
      "              precision    recall  f1-score   support\n\n           0       0.90      0.89      0.90      7500\n           1       0.89      0.91      0.90      7500\n\n   micro avg       0.90      0.90      0.90     15000\n   macro avg       0.90      0.90      0.90     15000\nweighted avg       0.90      0.90      0.90     15000\n\n"
     ]
    }
   ],
   "source": [
    "y_pred = clf.predict(X_test)\n",
    "tfidLogisticYesNgramReport = classification_report(y_test, y_pred)\n",
    "print(tfidLogisticYesNgramReport)\n"
   ]
  },
  {
   "cell_type": "code",
   "execution_count": 28,
   "metadata": {},
   "outputs": [
    {
     "name": "stdout",
     "output_type": "stream",
     "text": [
      "Counter Vectorizer + Naive Bayes + unigram \n              precision    recall  f1-score   support\n\n           0       0.82      0.88      0.85      7500\n           1       0.87      0.81      0.84      7500\n\n   micro avg       0.84      0.84      0.84     15000\n   macro avg       0.85      0.84      0.84     15000\nweighted avg       0.85      0.84      0.84     15000\n\nTFID Vectorizer + Naive Bayes + unigram \n              precision    recall  f1-score   support\n\n           0       0.84      0.89      0.86      7500\n           1       0.88      0.83      0.85      7500\n\n   micro avg       0.86      0.86      0.86     15000\n   macro avg       0.86      0.86      0.86     15000\nweighted avg       0.86      0.86      0.86     15000\n\nCounter Vectorizer + Logistic Regression + unigram \n              precision    recall  f1-score   support\n\n           0       0.89      0.88      0.89      7500\n           1       0.88      0.89      0.89      7500\n\n   micro avg       0.89      0.89      0.89     15000\n   macro avg       0.89      0.89      0.89     15000\nweighted avg       0.89      0.89      0.89     15000\n\nTFID Vectorizer + Logistic Regression + unigram \n              precision    recall  f1-score   support\n\n           0       0.90      0.89      0.89      7500\n           1       0.89      0.90      0.90      7500\n\n   micro avg       0.90      0.90      0.90     15000\n   macro avg       0.90      0.90      0.90     15000\nweighted avg       0.90      0.90      0.90     15000\n\nCounter Vectorizer + Naive Bayes + bigram  \n              precision    recall  f1-score   support\n\n           0       0.87      0.90      0.88      7500\n           1       0.89      0.86      0.88      7500\n\n   micro avg       0.88      0.88      0.88     15000\n   macro avg       0.88      0.88      0.88     15000\nweighted avg       0.88      0.88      0.88     15000\n\nTFID Vectorizer + Naive Bayes + bigram  \n              precision    recall  f1-score   support\n\n           0       0.87      0.91      0.89      7500\n           1       0.91      0.86      0.89      7500\n\n   micro avg       0.89      0.89      0.89     15000\n   macro avg       0.89      0.89      0.89     15000\nweighted avg       0.89      0.89      0.89     15000\n\nCounter Vectorizer + Logistic Regression + bigram  \n              precision    recall  f1-score   support\n\n           0       0.91      0.90      0.91      7500\n           1       0.90      0.92      0.91      7500\n\n   micro avg       0.91      0.91      0.91     15000\n   macro avg       0.91      0.91      0.91     15000\nweighted avg       0.91      0.91      0.91     15000\n\nTFID Vectorizer + Logistic Regression + bigram  \n              precision    recall  f1-score   support\n\n           0       0.90      0.89      0.90      7500\n           1       0.89      0.91      0.90      7500\n\n   micro avg       0.90      0.90      0.90     15000\n   macro avg       0.90      0.90      0.90     15000\nweighted avg       0.90      0.90      0.90     15000\n\n"
     ]
    }
   ],
   "source": [
    "print(\"Counter Vectorizer + Naive Bayes + unigram \\n\" + countNaiveNoNgramReport)\n",
    "\n",
    "print(\"TFID Vectorizer + Naive Bayes + unigram \\n\" + tfidNaiveNoNgramReport)\n",
    "\n",
    "print(\"Counter Vectorizer + Logistic Regression + unigram \\n\" + countLogisticNoNgramReport)\n",
    "\n",
    "print(\"TFID Vectorizer + Logistic Regression + unigram \\n\" + tfidLogisticNoNgramReport)\n",
    "\n",
    "print(\"Counter Vectorizer + Naive Bayes + bigram  \\n\" + countNaiveYesNgramReport)\n",
    "\n",
    "print(\"TFID Vectorizer + Naive Bayes + bigram  \\n\" + tfidNaiveYesNgramReport)\n",
    "\n",
    "print(\"Counter Vectorizer + Logistic Regression + bigram  \\n\" +countLogisticYesNgramReport)\n",
    "\n",
    "print(\"TFID Vectorizer + Logistic Regression + bigram  \\n\" + tfidLogisticYesNgramReport)\n",
    "\n"
   ]
  },
  {
   "cell_type": "code",
   "execution_count": null,
   "metadata": {},
   "outputs": [],
   "source": []
  }
 ],
 "metadata": {
  "kernelspec": {
   "display_name": "Python 2",
   "language": "python",
   "name": "python2"
  },
  "language_info": {
   "codemirror_mode": {
    "name": "ipython",
    "version": 2
   },
   "file_extension": ".py",
   "mimetype": "text/x-python",
   "name": "python",
   "nbconvert_exporter": "python",
   "pygments_lexer": "ipython2",
   "version": "2.7.6"
  }
 },
 "nbformat": 4,
 "nbformat_minor": 0
}
